{
 "cells": [
  {
   "cell_type": "code",
   "execution_count": 10,
   "metadata": {},
   "outputs": [],
   "source": [
    "import pandas as pd\n",
    "import numpy as np\n",
    "from sklearn.metrics import mean_squared_error\n",
    "from sklearn.preprocessing import MinMaxScaler, LabelEncoder\n",
    "from sklearn.ensemble import ExtraTreesRegressor, RandomForestRegressor\n",
    "from sklearn.neural_network import MLPRegressor\n",
    "from sklearn.linear_model import LinearRegression\n",
    "from sklearn.model_selection import KFold"
   ]
  },
  {
   "cell_type": "markdown",
   "metadata": {},
   "source": [
    "# Preparando os dados"
   ]
  },
  {
   "cell_type": "code",
   "execution_count": 122,
   "metadata": {},
   "outputs": [],
   "source": [
    "columns = ['defect_type','defect_location', 'severity', 'inspection_method', 'repair_cost']\n",
    "df = pd.read_csv(r'..\\dataset\\defects_data.csv')\n",
    "df_selected = df[columns].copy()"
   ]
  },
  {
   "cell_type": "code",
   "execution_count": 123,
   "metadata": {},
   "outputs": [],
   "source": [
    "encoders = {}\n",
    "\n",
    "for column in columns:\n",
    "    encoder = LabelEncoder()\n",
    "    dtype = df_selected[column].dtype\n",
    "    if dtype == 'O':\n",
    "        df_selected[column] = encoder.fit_transform(df_selected[column])\n",
    "        encoders[column] = encoder\n",
    "\n",
    "mms = MinMaxScaler()\n",
    "df_processed = mms.fit_transform(df_selected)\n",
    "encoders['MinMaxScaler'] = mms"
   ]
  },
  {
   "cell_type": "markdown",
   "metadata": {},
   "source": [
    "# Realizando treino e avaliando os modelos"
   ]
  },
  {
   "cell_type": "code",
   "execution_count": 143,
   "metadata": {},
   "outputs": [
    {
     "name": "stdout",
     "output_type": "stream",
     "text": [
      "ExtraTreesRegressor\n",
      "RandomForestRegressor\n",
      "MLPRegressor\n",
      "LinearRegression\n",
      "*-**-**-**-**-*\n",
      "ExtraTreesRegressor\n",
      "MSE: 100756.92261934452\n",
      "RMSE 317.422309580383\n",
      "*-**-**-**-**-*\n",
      "RandomForestRegressor\n",
      "MSE: 100839.27937705551\n",
      "RMSE 317.55201050702783\n",
      "*-**-**-**-**-*\n",
      "MLPRegressor\n",
      "MSE: 91545.95190990674\n",
      "RMSE 302.56561587514653\n",
      "*-**-**-**-**-*\n",
      "LinearRegression\n",
      "MSE: 89035.995545486\n",
      "RMSE 298.3890003761633\n"
     ]
    }
   ],
   "source": [
    "X = df_processed[0::,0:4]\n",
    "y = df_processed[0::, -1]\n",
    "\n",
    "model_metrics = {}\n",
    "models = [\n",
    "    ExtraTreesRegressor(),\n",
    "    RandomForestRegressor(),\n",
    "    MLPRegressor(),\n",
    "    LinearRegression()\n",
    "]\n",
    "\n",
    "for model in models:\n",
    "    n_splits = 4\n",
    "    kfold = KFold(n_splits=n_splits)\n",
    "\n",
    "    for i, (train_index, test_index) in enumerate(kfold.split(X)):\n",
    "        model_name = str(model)[0:-2:1]\n",
    "        X_train, X_test, y_train, y_test = X[train_index], X[test_index], y[train_index], y[test_index]\n",
    "        model.fit(X_train, y_train)\n",
    "        y_pred = model.predict(X_test)\n",
    "        test = encoders['MinMaxScaler'].inverse_transform(np.hstack([X_test, y_test.reshape(-1, 1)]))\n",
    "        pred =  encoders['MinMaxScaler'].inverse_transform(np.hstack([X_test, y_pred.reshape(-1, 1)]))\n",
    "        mse = mean_squared_error(test[::, -1], pred[::, -1])\n",
    "        rmse = (mean_squared_error(test[::, -1], pred[::, -1]))**(1/2)\n",
    "        model_metrics[model_name] = (mse, rmse)\n",
    "    print(model_name)\n",
    "\n",
    "\n",
    "for model, metrics in model_metrics.items():\n",
    "    print('*-*'*5)\n",
    "    print(f'{model}')\n",
    "    print(f'MSE: {metrics[0]}')\n",
    "    print(f'RMSE {metrics[1]}')"
   ]
  },
  {
   "cell_type": "markdown",
   "metadata": {},
   "source": [
    "# Conclusão\n",
    "Como ja era de se esperar todos os modelos obtiveram erros semelhantes e relativamente altos, isso é devido a caracterista aleatória dos dados, por mais que eles tenham um certo limite em que o custo de reparo esteja, ainda sim é difícil de se prever.\n"
   ]
  }
 ],
 "metadata": {
  "kernelspec": {
   "display_name": ".venv",
   "language": "python",
   "name": "python3"
  },
  "language_info": {
   "codemirror_mode": {
    "name": "ipython",
    "version": 3
   },
   "file_extension": ".py",
   "mimetype": "text/x-python",
   "name": "python",
   "nbconvert_exporter": "python",
   "pygments_lexer": "ipython3",
   "version": "3.12.4"
  }
 },
 "nbformat": 4,
 "nbformat_minor": 2
}
